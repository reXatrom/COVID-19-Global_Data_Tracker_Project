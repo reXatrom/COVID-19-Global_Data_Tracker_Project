{
 "cells": [
  {
   "cell_type": "markdown",
   "metadata": {},
   "source": [
    "# 🧪 COVID-19 Global Data Tracker\n",
    "Track and visualize global COVID-19 trends using real-world data."
   ]
  },
  {
   "cell_type": "code",
   "execution_count": null,
   "metadata": {},
   "outputs": [],
   "source": [
    "# 📦 Step 1: Import Libraries\n",
    "import pandas as pd\n",
    "import matplotlib.pyplot as plt\n",
    "import seaborn as sns\n",
    "import plotly.express as px\n",
    "import geopandas as gpd\n",
    "import warnings\n",
    "warnings.filterwarnings('ignore')\n",
    "\n",
    "sns.set_theme(style='darkgrid')"
   ]
  },
  {
   "cell_type": "code",
   "execution_count": null,
   "metadata": {},
   "outputs": [],
   "source": [
    "# 1️⃣ Data Loading\n",
    "df = pd.read_csv('owid-covid-data.csv')\n",
    "df.head()"
   ]
  },
  {
   "cell_type": "code",
   "execution_count": null,
   "metadata": {},
   "outputs": [],
   "source": [
    "# 2️⃣ Data Exploration\n",
    "df.info()\n",
    "df.isnull().sum().sort_values(ascending=False)"
   ]
  },
  {
   "cell_type": "code",
   "execution_count": null,
   "metadata": {},
   "outputs": [],
   "source": [
    "# 3️⃣ Data Cleaning\n",
    "df['date'] = pd.to_datetime(df['date'])\n",
    "countries = ['Kenya', 'United States', 'India']\n",
    "df_countries = df[df['location'].isin(countries)].dropna(subset=['total_cases', 'total_deaths'])\n",
    "df_countries.fillna(0, inplace=True)"
   ]
  },
  {
   "cell_type": "code",
   "execution_count": null,
   "metadata": {},
   "outputs": [],
   "source": [
    "# 4️⃣ Exploratory Data Analysis\n",
    "plt.figure(figsize=(12, 6))\n",
    "for country in countries:\n",
    "    data = df_countries[df_countries['location'] == country]\n",
    "    plt.plot(data['date'], data['total_cases'], label=country)\n",
    "plt.title('Total Cases Over Time')\n",
    "plt.legend()\n",
    "plt.show()"
   ]
  },
  {
   "cell_type": "code",
   "execution_count": null,
   "metadata": {},
   "outputs": [],
   "source": [
    "# 5️⃣ Vaccination Progress\n",
    "plt.figure(figsize=(12, 6))\n",
    "for country in countries:\n",
    "    data = df_countries[df_countries['location'] == country]\n",
    "    plt.plot(data['date'], data['total_vaccinations'], label=country)\n",
    "plt.title('Vaccination Progress Over Time')\n",
    "plt.legend()\n",
    "plt.show()"
   ]
  },
  {
   "cell_type": "code",
   "execution_count": null,
   "metadata": {},
   "outputs": [],
   "source": [
    "# 6️⃣ Choropleth Map\n",
    "latest_date = df['date'].max()\n",
    "latest_df = df[df['date'] == latest_date]\n",
    "map_data = latest_df[['iso_code', 'location', 'total_cases']].dropna()\n",
    "fig = px.choropleth(map_data, locations='iso_code', color='total_cases',\n",
    "                    hover_name='location', color_continuous_scale='OrRd',\n",
    "                    title=f'Total COVID-19 Cases by Country on {latest_date.date()}')\n",
    "fig.show()"
   ]
  },
  {
   "cell_type": "markdown",
   "metadata": {},
   "source": [
    "### 🧠 Insights\n",
    "- India experienced a sharp rise in cases during the second wave.\n",
    "- USA led in early vaccine rollouts.\n",
    "- Kenya showed slower but consistent progress.\n",
    "- Global vaccine distribution was uneven."
   ]
  }
 ],
 "metadata": {
  "kernelspec": {
   "display_name": "Python 3",
   "language": "python",
   "name": "python3"
  },
  "language_info": {
   "name": "python",
   "version": "3.10"
  }
 },
 "nbformat": 4,
 "nbformat_minor": 5
}